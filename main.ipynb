{
 "cells": [
  {
   "cell_type": "markdown",
   "metadata": {},
   "source": [
    "# Finding force between two charged particle and finding the relative position vector between 2 charges."
   ]
  },
  {
   "cell_type": "code",
   "execution_count": null,
   "metadata": {},
   "outputs": [],
   "source": [
    "# Finding force between two charged particle and finding the relative position vector between 2 charges.\n",
    "def find_force(q1,q2,vec):\n",
    "    k = 8.987e9\n",
    "    r = (vec[0]**2+vec[1]**2+vec[2]**2)**(1/2)\n",
    "    f12 = (k*q1*q2)/r**2\n",
    "\n",
    "    F12_out = ''    \n",
    "    F12 = [f12*(vec[0]/r),f12*(vec[1]/r),f12*(vec[2]/r)]\n",
    "    temp = 'xyz'\n",
    "    for i in range(3):\n",
    "        F12_out+= temp[i] + ' Component =' + str(F12[i])+' N \\n'\n",
    "\n",
    "    return F12_out.strip('\\n')\n",
    "\n",
    "def find_vec(r2,r1,scale):\n",
    "\n",
    "    r12 = [(r2[0]-r1[0]),(r2[1]-r1[1]),(r2[2]-r1[2])]\n",
    "    r12_out = []\n",
    "\n",
    "    for i in r12:\n",
    "        r12_out.append(i*scale)\n",
    "    return r12_out\n",
    "\n",
    "\n",
    "\n",
    "#=============================================================================\n",
    "#manual input zone\n",
    "#input charge value\n",
    "\n",
    "e = 1.6e-19 #charge scale\n",
    "\n",
    "q1 =  10*e\n",
    "q2 = 10*e\n",
    "\n",
    "#input vector value. \n",
    "r1 = [47/3**(1/2),-19/2**(1/2),27]\n",
    "r2 = [-45,-19,39]\n",
    "\n",
    "# input vector value scaling\n",
    "scale = 1e-9\n",
    "\n",
    "# decide what to print\n",
    "print(f'Vector = {find_vec(r2,r1,scale)}') # Use only to find vector of 2 charge \n",
    "\n",
    "print(f'Force :\\n{find_force(q1,q2,find_vec(r2,r1,scale))}')"
   ]
  }
 ],
 "metadata": {
  "interpreter": {
   "hash": "409191802570ab9a0b0d36657f0bdc6058afb7163d295d3c136fd15bb0c67afa"
  },
  "kernelspec": {
   "display_name": "Python 3.10.2 64-bit (windows store)",
   "language": "python",
   "name": "python3"
  },
  "language_info": {
   "name": "python",
   "version": "3.10.2"
  },
  "orig_nbformat": 4
 },
 "nbformat": 4,
 "nbformat_minor": 2
}
